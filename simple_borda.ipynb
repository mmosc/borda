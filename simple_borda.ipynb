{
 "cells": [
  {
   "cell_type": "markdown",
   "id": "1af0d30c-730b-48ff-ba77-b5cebada069c",
   "metadata": {},
   "source": [
    "# **Simple Borda**\n",
    "\n",
    "Implement simple Borda count on the lists of 10 items recommended by each recommender.\n",
    "\n",
    "## Procedure:\n",
    "- Load one dataframe and get all unique `user_id`'s\n",
    "- Create a `fused` dataframe\n",
    "- Iterate over `user_id`'s and do:\n",
    "    - create a `user_id` dataframe\n",
    "    - For each `recommender.csv`:\n",
    "        - Load a rating\n",
    "        - Select rows corresponding to this user\n",
    "        - Convert rankings to points\n",
    "        - Drop Rankings\n",
    "        - DO NOT Drop user_id\n",
    "        - Add these line to the `user_id` dataframe\n",
    "    - Aggregate the `user_id` dataframe on the track_id by summing the points\n",
    "    - Sort descending on points\n",
    "- Add the `user_id` dataframe to the `fused` dataframe\n",
    "\n",
    "## Output: \n",
    "`user_id.tsv`: a file containing `user_id` and the new ranked list of top 10 recommendations."
   ]
  },
  {
   "cell_type": "code",
   "execution_count": 1,
   "id": "2d84e247-a25b-475f-a709-9db133b11784",
   "metadata": {},
   "outputs": [],
   "source": [
    "import pandas as pd\n",
    "import os"
   ]
  },
  {
   "cell_type": "code",
   "execution_count": 2,
   "id": "7ac0442d-dc52-4f04-80a2-37df4113d1af",
   "metadata": {},
   "outputs": [],
   "source": [
    "from config import *\n",
    "from helpers import *"
   ]
  },
  {
   "cell_type": "markdown",
   "id": "352a27e3-604c-49d7-a58e-6dea9885f359",
   "metadata": {},
   "source": [
    "### Get the unique `user_id`'s"
   ]
  },
  {
   "cell_type": "code",
   "execution_count": 3,
   "id": "6f12a73e-76cc-478b-af8f-70fb14cc1d93",
   "metadata": {},
   "outputs": [],
   "source": [
    "\n",
    "# Get the list of files with rankings\n",
    "rankings = os.listdir( rankings_path )\n",
    "\n",
    "# Open one file it as a dataframe\n",
    "one_rec_df = pd.read_csv( rankings_path + rankings[0] )"
   ]
  },
  {
   "cell_type": "code",
   "execution_count": 4,
   "id": "83710bae-2aef-4088-97c2-3c88849d2fb9",
   "metadata": {},
   "outputs": [
    {
     "name": "stdout",
     "output_type": "stream",
     "text": [
      "There are  14125 unique users.\n"
     ]
    }
   ],
   "source": [
    "users = get_user_ids( rankings_path ) \n",
    "print( 'There are ', len(users), 'unique users.' )"
   ]
  },
  {
   "cell_type": "markdown",
   "id": "dbd4cb76-260c-469b-a8a4-d7f1a71da252",
   "metadata": {},
   "source": [
    "### Define the final dataframe"
   ]
  },
  {
   "cell_type": "code",
   "execution_count": 5,
   "id": "21680190-9689-447a-9809-25ff1f0c9505",
   "metadata": {},
   "outputs": [
    {
     "data": {
      "text/html": [
       "<div>\n",
       "<style scoped>\n",
       "    .dataframe tbody tr th:only-of-type {\n",
       "        vertical-align: middle;\n",
       "    }\n",
       "\n",
       "    .dataframe tbody tr th {\n",
       "        vertical-align: top;\n",
       "    }\n",
       "\n",
       "    .dataframe thead th {\n",
       "        text-align: right;\n",
       "    }\n",
       "</style>\n",
       "<table border=\"1\" class=\"dataframe\">\n",
       "  <thead>\n",
       "    <tr style=\"text-align: right;\">\n",
       "      <th></th>\n",
       "      <th>user</th>\n",
       "      <th>item</th>\n",
       "      <th>points</th>\n",
       "      <th>rank</th>\n",
       "    </tr>\n",
       "  </thead>\n",
       "  <tbody>\n",
       "  </tbody>\n",
       "</table>\n",
       "</div>"
      ],
      "text/plain": [
       "Empty DataFrame\n",
       "Columns: [user, item, points, rank]\n",
       "Index: []"
      ]
     },
     "execution_count": 5,
     "metadata": {},
     "output_type": "execute_result"
    }
   ],
   "source": [
    "# Columns of the final dataframe\n",
    "fused_dataframe_columns = [ 'user', 'item', 'points', 'rank' ]\n",
    "fused_recommendations = pd.DataFrame( columns=fused_dataframe_columns )\n",
    "fused_recommendations.head()"
   ]
  },
  {
   "cell_type": "code",
   "execution_count": 6,
   "id": "7d010133-8fcd-4975-be72-c355da301fe2",
   "metadata": {},
   "outputs": [],
   "source": [
    "user_id = users[0]\n",
    "\n",
    "# columns of the individual user dataframe\n",
    "user_dataframe_columns = fused_dataframe_columns[:3]"
   ]
  },
  {
   "cell_type": "code",
   "execution_count": 7,
   "id": "90b2cefe-7f59-4ab7-af2f-442c9b0211f5",
   "metadata": {},
   "outputs": [],
   "source": [
    "user_df = sum_borda_points( rankings_path, user_id, user_dataframe_columns )"
   ]
  },
  {
   "cell_type": "code",
   "execution_count": 8,
   "id": "0a763934-ff72-446c-8f4d-44ced55e5784",
   "metadata": {},
   "outputs": [
    {
     "data": {
      "text/html": [
       "<div>\n",
       "<style scoped>\n",
       "    .dataframe tbody tr th:only-of-type {\n",
       "        vertical-align: middle;\n",
       "    }\n",
       "\n",
       "    .dataframe tbody tr th {\n",
       "        vertical-align: top;\n",
       "    }\n",
       "\n",
       "    .dataframe thead th {\n",
       "        text-align: right;\n",
       "    }\n",
       "</style>\n",
       "<table border=\"1\" class=\"dataframe\">\n",
       "  <thead>\n",
       "    <tr style=\"text-align: right;\">\n",
       "      <th></th>\n",
       "      <th>item</th>\n",
       "      <th>user</th>\n",
       "      <th>points</th>\n",
       "      <th>rank</th>\n",
       "    </tr>\n",
       "  </thead>\n",
       "  <tbody>\n",
       "    <tr>\n",
       "      <th>0</th>\n",
       "      <td>ttETA3r4njl7qDd7</td>\n",
       "      <td>user_3Fo6NS17</td>\n",
       "      <td>29</td>\n",
       "      <td>1</td>\n",
       "    </tr>\n",
       "    <tr>\n",
       "      <th>1</th>\n",
       "      <td>32m5suoC94ytD8Ed</td>\n",
       "      <td>user_3Fo6NS17</td>\n",
       "      <td>26</td>\n",
       "      <td>2</td>\n",
       "    </tr>\n",
       "    <tr>\n",
       "      <th>2</th>\n",
       "      <td>xOyScgiztu4p6Jgk</td>\n",
       "      <td>user_3Fo6NS17</td>\n",
       "      <td>23</td>\n",
       "      <td>3</td>\n",
       "    </tr>\n",
       "    <tr>\n",
       "      <th>3</th>\n",
       "      <td>fay1EXMAla6qcr5w</td>\n",
       "      <td>user_3Fo6NS17</td>\n",
       "      <td>20</td>\n",
       "      <td>4</td>\n",
       "    </tr>\n",
       "    <tr>\n",
       "      <th>4</th>\n",
       "      <td>POMsiP4ecUk4lyEp</td>\n",
       "      <td>user_3Fo6NS17</td>\n",
       "      <td>18</td>\n",
       "      <td>5</td>\n",
       "    </tr>\n",
       "  </tbody>\n",
       "</table>\n",
       "</div>"
      ],
      "text/plain": [
       "               item           user  points  rank\n",
       "0  ttETA3r4njl7qDd7  user_3Fo6NS17      29     1\n",
       "1  32m5suoC94ytD8Ed  user_3Fo6NS17      26     2\n",
       "2  xOyScgiztu4p6Jgk  user_3Fo6NS17      23     3\n",
       "3  fay1EXMAla6qcr5w  user_3Fo6NS17      20     4\n",
       "4  POMsiP4ecUk4lyEp  user_3Fo6NS17      18     5"
      ]
     },
     "execution_count": 8,
     "metadata": {},
     "output_type": "execute_result"
    }
   ],
   "source": [
    "user_df.head()"
   ]
  },
  {
   "cell_type": "code",
   "execution_count": null,
   "id": "9b56b705-d17c-4200-ac91-1ca548ae8330",
   "metadata": {},
   "outputs": [],
   "source": []
  }
 ],
 "metadata": {
  "kernelspec": {
   "display_name": "OMA",
   "language": "python",
   "name": "oma"
  },
  "language_info": {
   "codemirror_mode": {
    "name": "ipython",
    "version": 3
   },
   "file_extension": ".py",
   "mimetype": "text/x-python",
   "name": "python",
   "nbconvert_exporter": "python",
   "pygments_lexer": "ipython3",
   "version": "3.8.5"
  }
 },
 "nbformat": 4,
 "nbformat_minor": 5
}
